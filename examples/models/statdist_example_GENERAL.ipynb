{
 "cells": [
  {
   "cell_type": "markdown",
   "metadata": {},
   "source": [
    "### Compute equilibrium and stationary distribution using generalized code\n",
    "\n",
    "Proof of concept for computing equilibrium and the stationary distribution using generalized code that can take a model with:\n",
    "- Arbitrary number of Markov states\n",
    "- Arbitrary number of control varaibles\n",
    "- Arbitrary number of endogenous state variables\n",
    "\n",
    "Main technical problem is constructing the transition matrices (Q) for more than one exogeneous and endogenous variable."
   ]
  },
  {
   "cell_type": "code",
   "execution_count": 1,
   "metadata": {
    "collapsed": true
   },
   "outputs": [],
   "source": [
    "# Setup\n",
    "import numpy as np\n",
    "import scipy.sparse as spa\n",
    "import matplotlib.pyplot as plt\n",
    "from dolo.algos.dtmscc.time_iteration import time_iteration\n",
    "import dolo.algos.dtmscc.distributions_general as dst\n",
    "from dolo import yaml_import, pcat\n",
    "from operator import mul\n",
    "from functools import reduce\n"
   ]
  },
  {
   "cell_type": "code",
   "execution_count": 2,
   "metadata": {
    "collapsed": false
   },
   "outputs": [
    {
     "name": "stdout",
     "output_type": "stream",
     "text": [
      "\u001b[33mwarning\u001b[0m: 24, 1 : Symbol e has no calibrated value.\n",
      "\u001b[33mwarning\u001b[0m: 24, 1 : Symbol u has no calibrated value.\n"
     ]
    }
   ],
   "source": [
    "filename = 'incomplete_markets_dtmscc.yaml'\n",
    "model = yaml_import(filename)\n",
    "\n",
    "Nf = np.array([100])\n"
   ]
  },
  {
   "cell_type": "code",
   "execution_count": 3,
   "metadata": {
    "collapsed": true
   },
   "outputs": [],
   "source": [
    "mdr = time_iteration(model, with_complementarities=True, verbose=False, output_type='dr')"
   ]
  },
  {
   "cell_type": "markdown",
   "metadata": {},
   "source": [
    "### Next: construct fine grid for arbitrary number of state variables"
   ]
  },
  {
   "cell_type": "code",
   "execution_count": 4,
   "metadata": {
    "collapsed": false
   },
   "outputs": [
    {
     "data": {
      "text/plain": [
       "(100, 1)"
      ]
     },
     "execution_count": 4,
     "metadata": {},
     "output_type": "execute_result"
    }
   ],
   "source": [
    "sgridf = dst.fine_grid(model, Nf)\n",
    "sgridf.shape"
   ]
  },
  {
   "cell_type": "code",
   "execution_count": 67,
   "metadata": {
    "collapsed": false
   },
   "outputs": [],
   "source": [
    "# model2 = yaml_import('rbc_full.yaml')\n",
    "# Nf = np.array([100, 500])\n",
    "# sgridf = dst.fine_grid(model2, Nf)\n",
    "# gridf"
   ]
  },
  {
   "cell_type": "markdown",
   "metadata": {
    "collapsed": false
   },
   "source": [
    "### Next: produce the next period's state variable from the markov decision rule"
   ]
  },
  {
   "cell_type": "code",
   "execution_count": 5,
   "metadata": {
    "collapsed": false
   },
   "outputs": [],
   "source": [
    "sprimef = dst.mdr_to_sprime(model, mdr, Nf)"
   ]
  },
  {
   "cell_type": "markdown",
   "metadata": {},
   "source": [
    "### Next: compute the stationary distribution for the model. \n"
   ]
  },
  {
   "cell_type": "code",
   "execution_count": 6,
   "metadata": {
    "collapsed": false
   },
   "outputs": [
    {
     "name": "stdout",
     "output_type": "stream",
     "text": [
      "Iteration = 0, dist = 0.372600 \n",
      "\n",
      "Iteration = 100, dist = 0.006785 \n",
      "\n",
      "Iteration = 200, dist = 0.003737 \n",
      "\n",
      "Iteration = 300, dist = 0.001271 \n",
      "\n",
      "Iteration = 400, dist = 0.000285 \n",
      "\n",
      "Iteration = 500, dist = 0.000053 \n",
      "\n",
      "Iteration = 600, dist = 0.000009 \n",
      "\n",
      "Iteration = 700, dist = 0.000002 \n",
      "\n",
      "Iteration = 800, dist = 0.000000 \n",
      "\n",
      "Iteration = 900, dist = 0.000000 \n",
      "\n"
     ]
    }
   ],
   "source": [
    "L, QT = dst.stat_dist(model, mdr, Nf=Nf, verbose=True)"
   ]
  },
  {
   "cell_type": "markdown",
   "metadata": {},
   "source": [
    "### Compute the equilibrium of the model\n",
    "\n",
    "To generalize this step:\n",
    "- Pick an initial value for the aggregate state variable(s) that enters the individual agent's decision rule.\n",
    "- Compute the stationary distribution of the model\n",
    "- Using the stationary distribution, compute the observed aggregate variable(s).\n",
    "- Using a damping method to pick a new guess for the aggregate state variable, and then repeat.\n",
    "\n",
    "##### Problems\n",
    "- With more than one aggregate state variable, need multiple dampings. How do we set up these loops in a general way? "
   ]
  },
  {
   "cell_type": "code",
   "execution_count": null,
   "metadata": {
    "collapsed": true
   },
   "outputs": [],
   "source": []
  },
  {
   "cell_type": "code",
   "execution_count": null,
   "metadata": {
    "collapsed": true
   },
   "outputs": [],
   "source": []
  },
  {
   "cell_type": "code",
   "execution_count": null,
   "metadata": {
    "collapsed": true
   },
   "outputs": [],
   "source": []
  },
  {
   "cell_type": "code",
   "execution_count": null,
   "metadata": {
    "collapsed": true
   },
   "outputs": [],
   "source": []
  },
  {
   "cell_type": "code",
   "execution_count": null,
   "metadata": {
    "collapsed": true
   },
   "outputs": [],
   "source": []
  },
  {
   "cell_type": "code",
   "execution_count": null,
   "metadata": {
    "collapsed": true
   },
   "outputs": [],
   "source": []
  },
  {
   "cell_type": "code",
   "execution_count": null,
   "metadata": {
    "collapsed": true
   },
   "outputs": [],
   "source": []
  },
  {
   "cell_type": "markdown",
   "metadata": {},
   "source": [
    "### Compute the equilibrium interest rate "
   ]
  },
  {
   "cell_type": "code",
   "execution_count": null,
   "metadata": {
    "collapsed": false
   },
   "outputs": [],
   "source": [
    "K = dst.solve_eqm(model, Kinit=38, tolKeq=1e-5, verbose=True)"
   ]
  },
  {
   "cell_type": "markdown",
   "metadata": {},
   "source": [
    "### Using equilibrium aggregate capital stock, compute decision rules and stationary distribution"
   ]
  },
  {
   "cell_type": "code",
   "execution_count": null,
   "metadata": {
    "collapsed": true
   },
   "outputs": [],
   "source": [
    "# Set model calibration to the equilibrium aggregate capital stock.\n",
    "model.set_calibration(kagg=K)\n",
    "\n",
    "# drc = time_iteration(model, with_complementarities=True, verbose=False, output_type='controls') \n",
    "mdr = time_iteration(model, with_complementarities=True, verbose=False, output_type='dr') "
   ]
  },
  {
   "cell_type": "code",
   "execution_count": null,
   "metadata": {
    "collapsed": false
   },
   "outputs": [],
   "source": [
    "L, QT = dst.stat_dist(model, mdr, Nkf=Nkf, verbose=True)"
   ]
  },
  {
   "cell_type": "markdown",
   "metadata": {},
   "source": [
    "### Plot the equilibrium stationary distribution and decision rules"
   ]
  },
  {
   "cell_type": "code",
   "execution_count": 48,
   "metadata": {
    "collapsed": false
   },
   "outputs": [
    {
     "data": {
      "image/png": "[encoded data removed]",
      "text/plain": [
       "<matplotlib.figure.Figure at 0x258ba3c1e10>"
      ]
     },
     "metadata": {},
     "output_type": "display_data"
    }
   ],
   "source": [
    "%matplotlib inline\n",
    "\n",
    "plt.figure(figsize=(30, 5))\n",
    "plt.subplot(121)\n",
    "plt.plot(sgridf[0], L[:Nf[0]],label='m_0')\n",
    "plt.plot(sgridf[0], L[Nf[0]:],label='m_1')\n",
    "plt.xlabel('Capital, k')\n",
    "plt.title('DISTRIBUTION')\n",
    "plt.legend()\n",
    "plt.grid()"
   ]
  },
  {
   "cell_type": "code",
   "execution_count": null,
   "metadata": {
    "collapsed": false
   },
   "outputs": [],
   "source": [
    "# Get kprime and consumption from the markov decision rule\n",
    "\n",
    "kprimef = dst.mdr_to_sprime(model, mdr, Nkf)\n",
    "mdrc = np.zeros([Nkf, Ne])\n",
    "for i_m in range(Ne):\n",
    "    mdrc[:, i_m] = mdr(i_m, kgridf.reshape(-1,1)).flatten()"
   ]
  },
  {
   "cell_type": "code",
   "execution_count": null,
   "metadata": {
    "collapsed": false
   },
   "outputs": [],
   "source": [
    "# Plot controls\n",
    "\n",
    "%matplotlib inline\n",
    "kgrid = mdr.grid\n",
    "\n",
    "plt.figure(figsize=(20, 10))\n",
    "plt.subplot(121)\n",
    "plt.plot(kgridf, mdrc[:,0],label='e_0')\n",
    "plt.plot(kgridf, mdrc[:,1],label='e_1')\n",
    "plt.xlabel('Capital, k')\n",
    "plt.title('CONSUMPTION FUNCTION')\n",
    "plt.legend()\n",
    "plt.grid()\n",
    "\n",
    "plt.subplot(122)\n",
    "plt.plot(kgridf, kprimef[:Nkf],label='e_0')\n",
    "plt.plot(kgridf, kprimef[Nkf:],label='e_1')\n",
    "plt.xlabel('Capital, k')\n",
    "plt.title('CAPITAL FUNCTION')\n",
    "plt.legend()\n",
    "plt.grid()"
   ]
  },
  {
   "cell_type": "markdown",
   "metadata": {},
   "source": [
    "#### Create a function that takes transition back to control\n",
    "\n",
    "For models in which we can use the $s_{t+1}$ trick, need to create a function that takes this transition rule back to the control. "
   ]
  },
  {
   "cell_type": "code",
   "execution_count": null,
   "metadata": {
    "collapsed": true
   },
   "outputs": [],
   "source": []
  }
 ],
 "metadata": {
  "anaconda-cloud": {},
  "kernelspec": {
   "display_name": "Python [Root]",
   "language": "python",
   "name": "Python [Root]"
  },
  "language_info": {
   "codemirror_mode": {
    "name": "ipython",
    "version": 3
   },
   "file_extension": ".py",
   "mimetype": "text/x-python",
   "name": "python",
   "nbconvert_exporter": "python",
   "pygments_lexer": "ipython3",
   "version": "3.5.2"
  }
 },
 "nbformat": 4,
 "nbformat_minor": 0
}
